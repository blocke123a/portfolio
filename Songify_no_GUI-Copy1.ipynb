{
 "cells": [
  {
   "cell_type": "code",
   "execution_count": 2,
   "id": "5b02053f",
   "metadata": {},
   "outputs": [
    {
     "name": "stdout",
     "output_type": "stream",
     "text": [
      "Requirement already satisfied: spotipy in c:\\users\\blake\\appdata\\local\\programs\\python\\python310\\lib\\site-packages (2.22.1)\n",
      "Requirement already satisfied: redis>=3.5.3 in c:\\users\\blake\\appdata\\local\\programs\\python\\python310\\lib\\site-packages (from spotipy) (4.5.1)\n",
      "Requirement already satisfied: requests>=2.25.0 in c:\\users\\blake\\appdata\\local\\programs\\python\\python310\\lib\\site-packages (from spotipy) (2.28.0)\n",
      "Requirement already satisfied: six>=1.15.0 in c:\\users\\blake\\appdata\\local\\programs\\python\\python310\\lib\\site-packages (from spotipy) (1.16.0)\n",
      "Requirement already satisfied: urllib3>=1.26.0 in c:\\users\\blake\\appdata\\local\\programs\\python\\python310\\lib\\site-packages (from spotipy) (1.26.9)\n",
      "Requirement already satisfied: async-timeout>=4.0.2 in c:\\users\\blake\\appdata\\local\\programs\\python\\python310\\lib\\site-packages (from redis>=3.5.3->spotipy) (4.0.2)\n",
      "Requirement already satisfied: charset-normalizer~=2.0.0 in c:\\users\\blake\\appdata\\local\\programs\\python\\python310\\lib\\site-packages (from requests>=2.25.0->spotipy) (2.0.12)\n",
      "Requirement already satisfied: idna<4,>=2.5 in c:\\users\\blake\\appdata\\local\\programs\\python\\python310\\lib\\site-packages (from requests>=2.25.0->spotipy) (3.3)\n",
      "Requirement already satisfied: certifi>=2017.4.17 in c:\\users\\blake\\appdata\\local\\programs\\python\\python310\\lib\\site-packages (from requests>=2.25.0->spotipy) (2022.5.18.1)\n",
      "Requirement already satisfied: pymusixmatch in c:\\users\\blake\\appdata\\local\\programs\\python\\python310\\lib\\site-packages (0.3)\n",
      "Requirement already satisfied: requests in c:\\users\\blake\\appdata\\local\\programs\\python\\python310\\lib\\site-packages (from pymusixmatch) (2.28.0)\n",
      "Requirement already satisfied: charset-normalizer~=2.0.0 in c:\\users\\blake\\appdata\\local\\programs\\python\\python310\\lib\\site-packages (from requests->pymusixmatch) (2.0.12)\n",
      "Requirement already satisfied: idna<4,>=2.5 in c:\\users\\blake\\appdata\\local\\programs\\python\\python310\\lib\\site-packages (from requests->pymusixmatch) (3.3)\n",
      "Requirement already satisfied: urllib3<1.27,>=1.21.1 in c:\\users\\blake\\appdata\\local\\programs\\python\\python310\\lib\\site-packages (from requests->pymusixmatch) (1.26.9)\n",
      "Requirement already satisfied: certifi>=2017.4.17 in c:\\users\\blake\\appdata\\local\\programs\\python\\python310\\lib\\site-packages (from requests->pymusixmatch) (2022.5.18.1)\n",
      "Requirement already satisfied: textblob in c:\\users\\blake\\appdata\\local\\programs\\python\\python310\\lib\\site-packages (0.17.1)\n",
      "Requirement already satisfied: nltk>=3.1 in c:\\users\\blake\\appdata\\local\\programs\\python\\python310\\lib\\site-packages (from textblob) (3.8.1)\n",
      "Requirement already satisfied: click in c:\\users\\blake\\appdata\\local\\programs\\python\\python310\\lib\\site-packages (from nltk>=3.1->textblob) (8.1.3)\n",
      "Requirement already satisfied: joblib in c:\\users\\blake\\appdata\\local\\programs\\python\\python310\\lib\\site-packages (from nltk>=3.1->textblob) (1.2.0)\n",
      "Requirement already satisfied: regex>=2021.8.3 in c:\\users\\blake\\appdata\\local\\programs\\python\\python310\\lib\\site-packages (from nltk>=3.1->textblob) (2023.3.23)\n",
      "Requirement already satisfied: tqdm in c:\\users\\blake\\appdata\\local\\programs\\python\\python310\\lib\\site-packages (from nltk>=3.1->textblob) (4.65.0)\n",
      "Requirement already satisfied: colorama in c:\\users\\blake\\appdata\\local\\programs\\python\\python310\\lib\\site-packages (from click->nltk>=3.1->textblob) (0.4.4)\n"
     ]
    }
   ],
   "source": [
    "!pip install spotipy\n",
    "!pip install pymusixmatch\n",
    "!pip install textblob"
   ]
  },
  {
   "cell_type": "code",
   "execution_count": 15,
   "id": "8804607a",
   "metadata": {},
   "outputs": [],
   "source": [
    "# NLP imports\n",
    "import nltk\n",
    "from nltk.corpus import stopwords\n",
    "from nltk.tokenize import word_tokenize\n",
    "from nltk.stem import WordNetLemmatizer\n",
    "\n",
    "# API imports\n",
    "import spotipy\n",
    "from spotipy.oauth2 import SpotifyClientCredentials\n",
    "from musixmatch import Musixmatch # lyrics api\n",
    "\n",
    "# for displaying album covers\n",
    "from IPython.display import Image, display\n",
    "\n",
    "# other imports\n",
    "import json\n",
    "import requests\n",
    "import io\n",
    "import os"
   ]
  },
  {
   "cell_type": "markdown",
   "id": "53091d51",
   "metadata": {},
   "source": [
    "Option 1"
   ]
  },
  {
   "cell_type": "code",
   "execution_count": 4,
   "id": "79c1a287",
   "metadata": {},
   "outputs": [
    {
     "name": "stderr",
     "output_type": "stream",
     "text": [
      "[nltk_data] Downloading package stopwords to\n",
      "[nltk_data]     C:\\Users\\blake\\AppData\\Roaming\\nltk_data...\n",
      "[nltk_data]   Package stopwords is already up-to-date!\n",
      "[nltk_data] Downloading package punkt to\n",
      "[nltk_data]     C:\\Users\\blake\\AppData\\Roaming\\nltk_data...\n",
      "[nltk_data]   Package punkt is already up-to-date!\n",
      "[nltk_data] Downloading package wordnet to\n",
      "[nltk_data]     C:\\Users\\blake\\AppData\\Roaming\\nltk_data...\n",
      "[nltk_data]   Package wordnet is already up-to-date!\n"
     ]
    },
    {
     "data": {
      "text/plain": [
       "True"
      ]
     },
     "execution_count": 4,
     "metadata": {},
     "output_type": "execute_result"
    }
   ],
   "source": [
    "# nltk downloads needed to run the Natural Language Processing\n",
    "nltk.download('stopwords')\n",
    "nltk.download('punkt')\n",
    "nltk.download('wordnet')"
   ]
  },
  {
   "cell_type": "code",
   "execution_count": 5,
   "id": "bba73052",
   "metadata": {},
   "outputs": [],
   "source": [
    "# function to break down text for NLP purposes\n",
    "def preprocess(text):\n",
    "    # define a set of stopwords to be removed from text\n",
    "    stop_words = set(stopwords.words('english'))\n",
    "    # a lemmatizer breaks down words into more basic forms\n",
    "    # ex/ running becomes run\n",
    "    lemmatizer = WordNetLemmatizer()\n",
    "    # word_tokenize decomposes a word into individual tokens, which can be used for further analysis\n",
    "    words = word_tokenize(text.lower())\n",
    "    # making the text lowercase makes it simpler\n",
    "    words = [lemmatizer.lemmatize(word) for word in words if word.isalpha() and word not in stop_words]\n",
    "    # breaks down all words in the lyrics as long as they are not designated stop words or are not alphanumeric (in which case they wouldn't be words anyways)\n",
    "    return \" \".join(words)"
   ]
  },
  {
   "cell_type": "code",
   "execution_count": 6,
   "id": "776e40ed",
   "metadata": {},
   "outputs": [],
   "source": [
    "client_id = input(\"Please enter your Spotify client ID: \")\n",
    "client_secret = input(\"Please enter your Spotify client secret: \")\n",
    "\n",
    "client_credentials_manager = SpotifyClientCredentials(client_id, client_secret)\n",
    "sp = spotipy.Spotify(client_credentials_manager=client_credentials_manager)"
   ]
  },
  {
   "cell_type": "code",
   "execution_count": 7,
   "id": "6115a8f0",
   "metadata": {},
   "outputs": [],
   "source": [
    "def search_lyrics(query, num):\n",
    "    # api key needed to use Musixmatch\n",
    "    musix_key = input(\"Please enter your personal MusixMatch key: \")\n",
    "    musixmatch_api = Musixmatch(musix_key)\n",
    "    base_url = \"https://api.musixmatch.com/ws/1.1/\"\n",
    "    endpoint = \"track.search\"\n",
    "    # join the base_url and the endpoint to form the full url\n",
    "    url = f\"{base_url}{endpoint}\"\n",
    "    params = {\n",
    "        \"q\": query,\n",
    "        \"apikey\": musix_key,\n",
    "        # descending order of track rating\n",
    "        \"s_track_rating\": \"desc\",\n",
    "        \"f_has_lyrics\": 1\n",
    "    }\n",
    "    # search using the url and the user input\n",
    "    response = requests.get(url, params=params)\n",
    "    data = response.json() # put the response in json form\n",
    "    tracks = []\n",
    "    count = 0\n",
    "    for track in data[\"message\"][\"body\"][\"track_list\"]:\n",
    "        # adds song names and the corresponding artist to a list\n",
    "        if count < num:\n",
    "          track_name = track['track']['track_name']\n",
    "          artist_name = track[\"track\"][\"artist_name\"]\n",
    "          tracks.append((track_name, artist_name))\n",
    "          count += 1\n",
    "        else:\n",
    "            break\n",
    "    return tracks"
   ]
  },
  {
   "cell_type": "code",
   "execution_count": 23,
   "id": "4105c5d1",
   "metadata": {},
   "outputs": [
    {
     "name": "stdout",
     "output_type": "stream",
     "text": [
      "Enter a lyric: it's close to midnight and something evil's lurkin in the dark\n",
      "Enter the maximum number of songs to display (1-10): 1\n",
      "Thriller by Michael Jackson\n"
     ]
    },
    {
     "data": {
      "text/html": [
       "<img src=\"https://i.scdn.co/image/ab67616d0000b2734121faee8df82c526cbab2be\"/>"
      ],
      "text/plain": [
       "<IPython.core.display.Image object>"
      ]
     },
     "metadata": {},
     "output_type": "display_data"
    }
   ],
   "source": [
    "def get_album_cover():\n",
    "    processed_input = preprocess(input(\"Enter a lyric: \")) # run the Natural Language Processing\n",
    "    max_songs = int(input(\"Enter the maximum number of songs to display (1-10): \"))\n",
    "    res = search_lyrics(processed_input, max_songs)\n",
    "    for song, artist in res: # unpacks each tuple ex/ (song, artist)\n",
    "        # use the Spotify search API to search for the song\n",
    "        try:\n",
    "            results = sp.search(q='track:' + song + ' artist:' + artist, type='track')\n",
    "            # get the first result from the search\n",
    "            track = results['tracks']['items'][0]\n",
    "            # get the album cover image URL\n",
    "            image_url = track['album']['images'][0]['url']\n",
    "            # push image URL and song name+artist\n",
    "            print(f\"{song} by {artist}\")\n",
    "            display(Image(url=image_url))\n",
    "        except:\n",
    "            # if the song does not have an image in spotify\n",
    "            image_url = \"Could not load cover image for this song.\"\n",
    "        \n",
    "get_album_cover()"
   ]
  }
 ],
 "metadata": {
  "kernelspec": {
   "display_name": "Python 3 (ipykernel)",
   "language": "python",
   "name": "python3"
  },
  "language_info": {
   "codemirror_mode": {
    "name": "ipython",
    "version": 3
   },
   "file_extension": ".py",
   "mimetype": "text/x-python",
   "name": "python",
   "nbconvert_exporter": "python",
   "pygments_lexer": "ipython3",
   "version": "3.10.6"
  }
 },
 "nbformat": 4,
 "nbformat_minor": 5
}
